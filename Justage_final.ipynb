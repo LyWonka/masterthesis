{
 "cells": [
  {
   "cell_type": "markdown",
   "metadata": {},
   "source": [
    "### Integration script\n"
   ]
  },
  {
   "cell_type": "markdown",
   "metadata": {},
   "source": [
    "This Jupyter notebook is used to visualize the program flow and the measured values. It combines the advantages of a user interface through easy handling and direct adaptation of the variables by the user, while enabling simple and direct visualization of the measurement results.\n",
    "The individual code cells can be started independently of each other, but some of them build on each other (note the markers!).\n"
   ]
  },
  {
   "cell_type": "code",
   "execution_count": null,
   "metadata": {},
   "outputs": [],
   "source": [
    "#load the required packages\n",
    "%matplotlib ipympl\n",
    "\n",
    "import matplotlib.pyplot as plt\n",
    "from IPython.display import display, clear_output\n",
    "import thorlabs_apt as apt\n",
    "import pyvisa as visa\n",
    "import pandas as pd\n",
    "import numpy as np\n",
    "import time\n",
    "import os\n",
    "from scipy.optimize import curve_fit"
   ]
  },
  {
   "cell_type": "markdown",
   "metadata": {},
   "source": [
    "To be able to control the correct rotation stage, the available devices are queried and printed out."
   ]
  },
  {
   "cell_type": "code",
   "execution_count": null,
   "metadata": {},
   "outputs": [],
   "source": [
    "devices = apt.list_available_devices()\n",
    "print(devices)"
   ]
  },
  {
   "cell_type": "markdown",
   "metadata": {},
   "source": [
    "The engine is defined by its serial number and various settings can be made."
   ]
  },
  {
   "cell_type": "code",
   "execution_count": null,
   "metadata": {},
   "outputs": [],
   "source": [
    "motor = apt.Motor(55380084)\n",
    "#STAGE_UNITS_DEG = 2 #Stage units in degrees"
   ]
  },
  {
   "cell_type": "code",
   "execution_count": null,
   "metadata": {},
   "outputs": [],
   "source": [
    "motor.identify()\n",
    "home1 = motor.get_move_home_parameters()\n",
    "print(home1)\n",
    "motor.set_move_home_parameters(2,1,10,4) #werte von https://github.com/qpit/thorlabs_apt/issues/24\n",
    "home2 = motor.get_move_home_parameters()\n",
    "print(home2)\n",
    "motor.move_home()"
   ]
  },
  {
   "cell_type": "markdown",
   "metadata": {},
   "source": [
    "Selecting the right power meter based on the serial number of the console"
   ]
  },
  {
   "cell_type": "code",
   "execution_count": null,
   "metadata": {},
   "outputs": [],
   "source": [
    "rm = visa.ResourceManager()\n",
    "print(rm.list_resources())"
   ]
  },
  {
   "cell_type": "markdown",
   "metadata": {},
   "source": [
    "The power meter is set up as follows. Various settings can be made."
   ]
  },
  {
   "cell_type": "code",
   "execution_count": null,
   "metadata": {},
   "outputs": [],
   "source": [
    "inst = rm.open_resource('USB0::0x1313::0x8078::P0029761::INSTR', timeout=1)\n",
    "power_meter = ThorlabsPM100(inst=inst)\n",
    "power_meter.configure.scalar.power() #quelle: https://pythonhosted.org/ThorlabsPM100/thorlabsPM100.html#main-commands \n",
    "print(\"Measurement type :\", power_meter.getconfigure)"
   ]
  },
  {
   "cell_type": "code",
   "execution_count": null,
   "metadata": {},
   "outputs": [],
   "source": [
    "#Initialization and settings of the fit for the measurements \n",
    "def sin2_func(x, A, B, C, D):\n",
    "    return A * np.sin(B * x + C)**2 + D\n",
    "\n",
    "def sin2_func_in_degrees(x, A, B, C, D):\n",
    "    return A * np.sin(np.deg2rad(B * x + C))**2 + D\n",
    "\n",
    "def get_min_values(measure_table, plot_filename, initial_guess=None):\n",
    "    # Schätzungen für die Anfangswerte\n",
    "    # initial_guess = [1e-4, 0.1, 0, 1e-5] #rad\n",
    "    if initial_guess is None:\n",
    "        initial_guess =  np.array([np.max(np.abs(measure_table['measure'])) - np.mean(measure_table['measure']), 1, 0, np.mean(measure_table['measure'])]) #grad\n",
    "\n",
    "    sigma = measure_table['measure'] * 0.03\n",
    "    plt.plot(measure_table['position'], sigma, label='Gewichte', color='red')\n",
    "    plt.savefig(f\"output/gewichte_{plot_filename.split('_')[1]}\")\n",
    "    plt.close()\n",
    "    popt, pcov = curve_fit(sin2_func_in_degrees, measure_table['position'], measure_table['measure'], p0=initial_guess, sigma=sigma, maxfev = 10000)\n",
    "    \n",
    "    # Daten für den Fit berechnen\n",
    "    fit_x = np.linspace(measure_table['position'].min(), measure_table['position'].max(), 1000)\n",
    "    fit_y = sin2_func_in_degrees(fit_x, *popt)\n",
    "\n",
    "    # Minimum des Fits finden\n",
    "    min_index = np.argmin(fit_y)\n",
    "    min_fit_pos = fit_x[min_index]\n",
    "    min_fit_value = fit_y[min_index]\n",
    "\n",
    "    # Gegebener minimaler Wert und Position aus Messung\n",
    "    min_W_value = measure_table['measure'].min()\n",
    "    min_pos_row = measure_table[measure_table['measure'] == min_W_value]\n",
    "    min_pos = min_pos_row['position'].iloc[0]\n",
    "\n",
    "    # Plot der Originaldaten und des Fits\n",
    "    plt.figure(figsize=(10, 6))\n",
    "    plt.scatter(measure_table['position'], measure_table['measure'], label='Originaldaten', color='blue')\n",
    "    plt.plot(fit_x, fit_y, label='Gewichteter Sinus^2 Fit', color='red')\n",
    "    plt.axvline(x=min_fit_pos, color='green', linestyle='--', label='Minimum Position')\n",
    "    #plt.scatter(min_pos, min_W_value, color='orange', zorder=5, label='Measured Minimum Value')\n",
    "    plt.axvline(x=min_pos, color='orange', linestyle='--', label='Measured Minimum Value')\n",
    "    plt.title(f'Fit Min: {min_fit_value:.2e} \\nbei {min_fit_pos:.2f}°; Messung Min: {min_W_value:.2e} \\nbei {min_pos:.2f}°')\n",
    "    plt.xlabel('Position')\n",
    "    plt.ylabel('Measure')\n",
    "    plt.legend()\n",
    "    plt.title('Sinus^2 Fit zu den Messdaten')\n",
    "    plt.savefig(plot_filename)\n",
    "    plt.show()\n",
    "    plt.close()\n",
    "\n",
    "    return(initial_guess, min_fit_pos, min_fit_value, min_pos, min_W_value)\n",
    "\n",
    "    print(\"Optimierte Parameter:\", popt)\n",
    "    print(\"Position des Minimums (Fit):\", min_fit_pos)\n",
    "    print(\"Wert des Minimums (Fit):\", min_fit_value)\n",
    "    print(\"Position des minimalen Wertes (Messung):\", min_pos)\n",
    "    print(\"Minimaler Wert (Messung):\", min_W_value)"
   ]
  },
  {
   "cell_type": "code",
   "execution_count": null,
   "metadata": {
    "trusted": true
   },
   "outputs": [],
   "source": [
    "def do_measurement_with_live_plot(start, stop, step_size, motor, power_meter): #Macht eine Messung \n",
    "    df = pd.DataFrame(columns=[\"position\", \"measure\"])\n",
    "    motor.move_to(start, blocking=True) #aufpassen, dass er nicht immer zu 0 fährt\n",
    "    angle = start #pos\n",
    "\n",
    "    while angle <= stop:\n",
    "        measurements = [power_meter.read for _ in range(10)]\n",
    "        mean_measurement = np.mean(measurements)\n",
    "        df.loc[len(df)] = {\"position\": motor.position, \"measure\": mean_measurement}\n",
    "        motor.move_by(step_size, blocking=True)\n",
    "        angle += step_size #pos + step_size \n",
    "    return(df)"
   ]
  },
  {
   "cell_type": "markdown",
   "metadata": {},
   "source": [
    "First, the 'start_measurement' function is defined.\n",
    "This only needs to be successfully executed once, as long as the kernel does not need to be restarted."
   ]
  },
  {
   "cell_type": "code",
   "execution_count": null,
   "metadata": {
    "trusted": true
   },
   "outputs": [],
   "source": [
    "def start_measurement(start_input, stop_input, step_input, motor, power_meter, outputpath): #start_measurement führt do_measurement 3 mal aus\n",
    "    \n",
    "    # Überprüfen, ob die Eingabefelder nicht leer sind\n",
    "    if start_input == '' or stop_input == '' or step_input == '':\n",
    "        # abbrechen wenn leer\n",
    "        print(\"Bitte geben Sie Werte für Startwinkel, Stopwinkel und Schrittgröße ein.\")\n",
    "        return\n",
    "\n",
    "    try:\n",
    "        start_angle = float(start_input)\n",
    "        stop_angle = float(stop_input)\n",
    "        step_size = float(step_input)\n",
    "        #motor = int(motor_input)\n",
    "    except ValueError:\n",
    "        # abbrechen wenn ungültig\n",
    "        print(\"Ungültige Eingaben. Bitte geben Sie gültige Zahlen ein.\")\n",
    "        return\n",
    "\n",
    "    if step_size == 0:\n",
    "        print(\"Step size darf nicht 0 sein!\")\n",
    "        return\n",
    "    \n",
    "    timestamp = time.strftime('%Y%m%d%H%M')\n",
    "    with open(f\"{timestamp}_log.txt\", \"w\") as log:\n",
    "        # Starten der Messung\n",
    "        measure_table = do_measurement_with_live_plot(start_angle, stop_angle, step_size, motor, power_meter) #änderung 4\n",
    "        log.write(f\"{measure_table.to_string()}\\n\")\n",
    "        measure_table.to_csv(os.path.join(outputpath,f\"{timestamp}_01.csv\"))\n",
    "\n",
    "        # Minimalwert der Messung und zugehörigen Winkel finden\n",
    "        initial_guess, min_fit_pos, min_fit_value, min_pos, min_W_value = get_min_values(measure_table, plot_filename=os.path.join(outputpath,f\"{timestamp}_p1.png\"))\n",
    "        log.write(f\"1. Minimal current value in W: {min_W_value}\\n\")\n",
    "        log.write(f\"1. Position corresponding to minimal current value: {min_pos}\\n\")\n",
    "        log.write(f\"1. Minimal current fit value in W: {min_fit_value}\\n\")\n",
    "        log.write(f\"1. Fitted position corresponding to minimal current value: {min_fit_pos}\\n\")\n",
    "        motor.move_to(min_pos, blocking=True)\n",
    "        #motor.move_to(min_fit_pos, blocking=True)\n",
    "    #TODO mit in die Fit funktion übernehmen\n",
    "        max_W_value = measure_table['measure'].max()\n",
    "        max_pos_row = measure_table[measure_table['measure'] == max_W_value]\n",
    "        max_pos = max_pos_row['position'].iloc[0]\n",
    "        log.write(f\"1. Maximal current value in W: {max_W_value}\\n\")\n",
    "        log.write(f\"1. Position corresponding to maximal current value: {max_pos}\\n\")\n",
    "\n",
    "        # Messung um den minimalen Winkel (±10° in 1°-Schritten) durchführen\n",
    "        measure_table = do_measurement_with_live_plot(start=min_pos - 8, stop=min_pos + 8, step_size=0.5, motor=motor, power_meter=power_meter)  #änderung 5\n",
    "        log.write(f\"{measure_table.to_string()}\\n\")\n",
    "        measure_table.to_csv(os.path.join(outputpath,f\"{timestamp}_02.csv\"))\n",
    "        # Minimalwert der zweiten Messung und zugehörigen Winkel finden\n",
    "        _, min_fit_pos, min_fit_value, min_pos, min_W_value = get_min_values(measure_table, plot_filename=os.path.join(outputpath,f\"{timestamp}_p2.png\"), initial_guess=initial_guess)\n",
    "        log.write(f\"2. Minimal current value in W: {min_W_value}\\n\")\n",
    "        log.write(f\"2. Position corresponding to minimal current value: {min_pos}\\n\")\n",
    "        log.write(f\"2. Minimal current fit value in W: {min_fit_value}\\n\")\n",
    "        log.write(f\"2. Fitted position corresponding to minimal current value: {min_fit_pos}\\n\")\n",
    "        motor.move_to(min_pos, blocking=True)\n",
    "\n",
    "        # Messung um den minimalen Winkel (±5° in 0.5°-Schritten) durchführen\n",
    "        measure_table = do_measurement_with_live_plot(start=min_pos - 2, stop=min_pos + 2, step_size=0.2, motor=motor, power_meter=power_meter) #änderung 6\n",
    "        log.write(f\"Measurements around the angle:\\n\")\n",
    "        log.write(f\"{measure_table.to_string()}\\n\")\n",
    "        measure_table.to_csv(os.path.join(outputpath,f\"{timestamp}_03.csv\"))\n",
    "\n",
    "        # Minimalwert der dritten Messung und zugehörigen Winkel finden\n",
    "        _, min_fit_pos, min_fit_value, min_pos, min_W_value = get_min_values(measure_table, plot_filename=os.path.join(outputpath,f\"{timestamp}_p3.png\"), initial_guess=initial_guess)\n",
    "        log.write(f\"3. Minimal current value in W: {min_W_value}\\n\")\n",
    "        log.write(f\"3. Position corresponding to minimal current value: {min_pos}\\n\")\n",
    "        log.write(f\"3. Minimal current fit value in W: {min_fit_value}\\n\")\n",
    "        log.write(f\"3. Fitted position corresponding to minimal current value: {min_fit_pos}\\n\")\n",
    "        motor.move_to(min_pos, blocking=True)\n",
    "\n",
    "        # Motor zum neuen Winkel mit minimalem A-Wert bewegen\n",
    "        motor.move_to(min_pos, blocking=True)\n",
    "    print(\"Done\")\n",
    "    return(min_pos, min_fit_pos, max_pos)\n"
   ]
  },
  {
   "cell_type": "code",
   "execution_count": null,
   "metadata": {},
   "outputs": [],
   "source": [
    "def start_justage(start, stop, step_size, motor, power_meter, outputpath):\n",
    "    \n",
    "    timestamp = time.strftime('%Y%m%d%H%M')\n",
    "    with open(f\"{timestamp}_log.txt\", \"w\") as log:\n",
    "        # Messung um den minimalen Winkel (±5° in 0.5°-Schritten) durchführen\n",
    "        measurement_around_min_pos = do_measurement_with_live_plot(start=start, stop=stop, step_size=step_size, motor=motor, power_meter=power_meter) #änderung 6\n",
    "        log.write(f\"Measurements around the angle:\\n\")\n",
    "        log.write(f\"{measurement_around_min_pos.to_string()}\\n\")\n",
    "\n",
    "        # Minimalwert der Messung und zugehörigen Winkel finden\n",
    "        min_W_value = measurement_around_min_pos['measure'].min()\n",
    "        min_pos_row = measurement_around_min_pos[measurement_around_min_pos['measure'] == min_W_value]\n",
    "        min_pos = min_pos_row['position'].iloc[0]\n",
    "        log.write(f\"Just. Minimal current value in W: {min_W_value}\\n\")\n",
    "        log.write(f\"Just. Position corresponding to minimal current value: {min_pos}\\n\")\n",
    "\n",
    "        max_W_value = measurement_around_min_pos['measure'].max()\n",
    "        max_pos_row = measurement_around_min_pos[measurement_around_min_pos['measure'] == max_W_value]\n",
    "        max_pos = max_pos_row['position'].iloc[0]\n",
    "        log.write(f\"1. Maximal current value in W: {max_W_value}\\n\")\n",
    "        log.write(f\"1. Position corresponding to maximal current value: {max_pos}\\n\")\n",
    "\n",
    "        # Motor zum neuen Winkel mit minimalem A-Wert bewegen\n",
    "        motor.move_to(min_pos, blocking=True)    \n",
    "    return(min_pos)\n"
   ]
  },
  {
   "cell_type": "markdown",
   "metadata": {},
   "source": [
    "---"
   ]
  },
  {
   "cell_type": "markdown",
   "metadata": {},
   "source": [
    "### Outputpolarizer Alignment\n",
    "\\\n",
    "The start parameters for the measurement can be set in the following code cell. These values are set for the first measurement and can be adjusted as needed.\n",
    "In the definition of the start_measurement function in the code cell above"
   ]
  },
  {
   "cell_type": "code",
   "execution_count": null,
   "metadata": {},
   "outputs": [],
   "source": [
    "# Eingabeparameter für das Outputpolarisator Alignment\n",
    "start_input = '0'\n",
    "stop_input = '360'\n",
    "step_input = '1'\n",
    "outputpath = os.path.join('C:\\\\','Users','clup','Desktop','Quellen','Messungen')\n",
    "# Starten der Messung für das Outputpolarisator Alignment\n",
    "min_pos,min_fit_pos,max_pos=start_measurement(start_input, stop_input, step_input, motor, power_meter, outputpath)\n",
    "print(motor.position)\n",
    "print(min_pos)\n",
    "\n",
    "#wenn fit-Daten nicht nötig --> min_pos,_=start_measurement, dann ist 2 Variable leer"
   ]
  },
  {
   "cell_type": "markdown",
   "metadata": {},
   "source": [
    "### Adjustment around the last measured minimum position"
   ]
  },
  {
   "cell_type": "code",
   "execution_count": null,
   "metadata": {},
   "outputs": [],
   "source": [
    "# Eingabeparameter für das Outputpolarisator Alignment\n",
    "start = min_pos-4\n",
    "stop = min_pos+4\n",
    "step_size = 0.5\n",
    "outputpath = os.path.join('C:\\\\','Users','clup','Desktop','Quellen','output')\n",
    "# Starten der Messung für das Outputpolarisator Alignment\n",
    "min_pos=start_justage(start, stop, step_size, motor, power_meter, outputpath) #min_angel wird hier überschrieben\n",
    "print(motor.position)\n",
    "print(min_pos)\n",
    "    "
   ]
  },
  {
   "cell_type": "markdown",
   "metadata": {},
   "source": [
    "### Adjustment around the currently set position\n",
    "If the motor is not homed, the angle values from here on will no longer match the display."
   ]
  },
  {
   "cell_type": "code",
   "execution_count": null,
   "metadata": {},
   "outputs": [],
   "source": [
    "# Eingabeparameter für das Outputpolarisator Alignment\n",
    "\n",
    "pos = motor.position\n",
    "start = pos\n",
    "stop = pos+90\n",
    "step_size = 1\n",
    "outputpath = os.path.join('C:\\\\','Users','clup','Desktop','Quellen','output')\n",
    "# Starten der Messung für das Outputpolarisator Alignment\n",
    "min_pos=start_justage(start, stop, step_size, motor, power_meter, outputpath) \n",
    "print(motor.position)\n",
    "print(min_pos)"
   ]
  },
  {
   "cell_type": "markdown",
   "metadata": {},
   "source": [
    "###  Apply adhesive and lower the output polarizer onto the magnet\n"
   ]
  },
  {
   "cell_type": "markdown",
   "metadata": {},
   "source": [
    "To determine whether the output polarizer was lowered onto the magnet without a wedge/angle or without accidentally twisting the polarizer, the operator has the option here to check the adjustment again for maximum."
   ]
  },
  {
   "cell_type": "markdown",
   "metadata": {},
   "source": [
    "---"
   ]
  },
  {
   "cell_type": "markdown",
   "metadata": {},
   "source": [
    "### Waveplate Alignment\n",
    "The start parameters for the measurement can be set in the following code cell. These values are set for the first measurement and can be adjusted as needed.\n",
    "In the definition of the start_measurement function in the code cell above"
   ]
  },
  {
   "cell_type": "code",
   "execution_count": null,
   "metadata": {},
   "outputs": [],
   "source": [
    "# Eingabeparameter für das Outputpolarisator Alignment\n",
    "start_input = '0'\n",
    "stop_input = '8'\n",
    "step_input = '1'\n",
    "\n",
    "outputpath = os.path.join(\"C:\\\\\",\"Users\",\"clup\",\"Desktop\",\"Quellen\",\"waveplate\")\n",
    "\n",
    "# Starten der Messung für das Outputpolarisator Alignment\n",
    "start_measurement(start_input, stop_input, step_input, motor, power_meter, outputpath)"
   ]
  },
  {
   "cell_type": "markdown",
   "metadata": {},
   "source": [
    "## Apply adhesive and lower the waveplate onto the magnet\n",
    " "
   ]
  },
  {
   "cell_type": "code",
   "execution_count": null,
   "metadata": {},
   "outputs": [],
   "source": [
    "# Eingabeparameter für das Outputpolarisator Alignment\n",
    "start_input = 0\n",
    "stop_input = 360\n",
    "step_input = 1\n",
    "outputpath = os.path.join('C:\\\\','Users','clup','Desktop','Quellen','Messungen')\n",
    "# Starten der Messung für das Outputpolarisator Alignment\n",
    "measure_table = do_measurement_with_live_plot(start_input, stop_input, step_input, motor, power_meter)\n",
    "min_values, max_values = inextremo(measure_table)\n",
    "print(motor.position)\n",
    "print(min_values, max_values)"
   ]
  },
  {
   "cell_type": "markdown",
   "metadata": {},
   "source": [
    "---"
   ]
  }
 ],
 "metadata": {
  "kernelspec": {
   "display_name": "Python 3",
   "language": "python",
   "name": "python3"
  },
  "language_info": {
   "codemirror_mode": {
    "name": "ipython",
    "version": 3
   },
   "file_extension": ".py",
   "mimetype": "text/x-python",
   "name": "python",
   "nbconvert_exporter": "python",
   "pygments_lexer": "ipython3",
   "version": "3.9.6"
  }
 },
 "nbformat": 4,
 "nbformat_minor": 4
}
